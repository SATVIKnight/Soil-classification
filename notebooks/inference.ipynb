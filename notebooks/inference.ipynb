{
 "cells": [
  {
   "cell_type": "code",
   "execution_count": null,
   "id": "742348fb",
   "metadata": {},
   "outputs": [],
   "source": [
    "import os\n",
    "import pandas as pd\n",
    "from PIL import Image\n",
    "\n",
    "import torch\n",
    "from torch.utils.data import Dataset, DataLoader\n",
    "from torchvision import transforms\n",
    "\n",
    "from src.model import get_model\n"
   ]
  },
  {
   "cell_type": "code",
   "execution_count": null,
   "id": "0dd5172e",
   "metadata": {},
   "outputs": [],
   "source": [
    "# Paths\n",
    "TEST_IMAGES = '/kaggle/input/soil-classification/soil_classification-2025/test'\n",
    "TEST_CSV = '/kaggle/input/soil-classification/soil_classification-2025/test_ids.csv'\n",
    "\n",
    "# Load test image IDs\n",
    "test_df = pd.read_csv(TEST_CSV)\n"
   ]
  },
  {
   "cell_type": "code",
   "execution_count": null,
   "id": "3c134dbc",
   "metadata": {},
   "outputs": [],
   "source": [
    "IMG_SIZE = 224\n",
    "\n",
    "test_transform = transforms.Compose([\n",
    "    transforms.Resize((IMG_SIZE, IMG_SIZE)),\n",
    "    transforms.ToTensor(),\n",
    "    transforms.Normalize([0.485, 0.456, 0.406],\n",
    "                         [0.229, 0.224, 0.225])\n",
    "])\n",
    "\n",
    "class SoilTestDataset(Dataset):\n",
    "    def __init__(self, df, img_dir, transform=None):\n",
    "        self.df = df.reset_index(drop=True)\n",
    "        self.img_dir = img_dir\n",
    "        self.transform = transform\n",
    "\n",
    "    def __len__(self):\n",
    "        return len(self.df)\n",
    "\n",
    "    def __getitem__(self, idx):\n",
    "        img_id = self.df.loc[idx, 'image_id']\n",
    "        image = Image.open(os.path.join(self.img_dir, img_id)).convert('RGB')\n",
    "        if self.transform:\n",
    "            image = self.transform(image)\n",
    "        return image, img_id\n",
    "\n",
    "test_dataset = SoilTestDataset(test_df, TEST_IMAGES, transform=test_transform)\n",
    "test_loader = DataLoader(test_dataset, batch_size=32, shuffle=False)\n"
   ]
  },
  {
   "cell_type": "code",
   "execution_count": null,
   "id": "3b2440f2",
   "metadata": {},
   "outputs": [],
   "source": [
    "device = torch.device(\"cuda\" if torch.cuda.is_available() else \"cpu\")\n",
    "num_classes = 5  # same as during training\n",
    "\n",
    "model = get_model(num_classes=num_classes, pretrained=False)\n",
    "model.load_state_dict(torch.load(\"best_model.pth\", map_location=device))  # path to saved model\n",
    "model.to(device)\n",
    "model.eval()\n"
   ]
  },
  {
   "cell_type": "code",
   "execution_count": null,
   "id": "1124a988",
   "metadata": {},
   "outputs": [],
   "source": [
    "all_preds = []\n",
    "all_ids = []\n",
    "\n",
    "with torch.no_grad():\n",
    "    for images, img_ids in test_loader:\n",
    "        images = images.to(device)\n",
    "        outputs = model(images)\n",
    "        preds = torch.argmax(outputs, dim=1).cpu().numpy()\n",
    "        all_preds.extend(preds)\n",
    "        all_ids.extend(img_ids)\n"
   ]
  },
  {
   "cell_type": "code",
   "execution_count": null,
   "id": "d8632d87",
   "metadata": {},
   "outputs": [],
   "source": [
    "# This must match the train label encoding\n",
    "idx2soil = {0: 'Black', 1: 'Laterite', 2: 'Red', 3: 'Alluvial', 4: 'Desert'}\n",
    "\n",
    "submission = pd.DataFrame({\n",
    "    \"image_id\": all_ids,\n",
    "    \"soil_type\": [idx2soil[p] for p in all_preds]\n",
    "})\n",
    "\n",
    "submission.to_csv(\"submission.csv\", index=False)\n",
    "submission.head()\n"
   ]
  }
 ],
 "metadata": {
  "language_info": {
   "name": "python"
  }
 },
 "nbformat": 4,
 "nbformat_minor": 5
}
