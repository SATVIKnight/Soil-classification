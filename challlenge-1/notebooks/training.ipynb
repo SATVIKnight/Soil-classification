{
 "cells": [
  {
   "cell_type": "code",
   "execution_count": null,
   "id": "b3a5faea",
   "metadata": {
    "vscode": {
     "languageId": "plaintext"
    }
   },
   "outputs": [],
   "source": [
    "import os\n",
    "import numpy as np\n",
    "import pandas as pd\n",
    "import matplotlib.pyplot as plt\n",
    "\n",
    "from PIL import Image\n",
    "from sklearn.model_selection import train_test_split\n",
    "from sklearn.metrics import f1_score\n",
    "\n",
    "import torch\n",
    "import torch.nn as nn\n",
    "from torch.utils.data import Dataset, DataLoader\n",
    "from torchvision import transforms\n",
    "\n",
    "from src.model import get_model\n"
   ]
  },
  {
   "cell_type": "code",
   "execution_count": null,
   "id": "022a7a5b",
   "metadata": {
    "vscode": {
     "languageId": "plaintext"
    }
   },
   "outputs": [],
   "source": [
    "# Paths\n",
    "TRAIN_IMAGES = '/kaggle/input/soil-classification/soil_classification-2025/train'\n",
    "TEST_IMAGES = '/kaggle/input/soil-classification/soil_classification-2025/test'\n",
    "TRAIN_CSV = '/kaggle/input/soil-classification/soil_classification-2025/train_labels.csv'\n",
    "TEST_CSV = '/kaggle/input/soil-classification/soil_classification-2025/test_ids.csv'\n",
    "\n",
    "train_df = pd.read_csv(TRAIN_CSV)\n",
    "test_df = pd.read_csv(TEST_CSV)\n",
    "\n",
    "# Encode soil labels\n",
    "soil2idx = {soil: idx for idx, soil in enumerate(train_df['soil_type'].unique())}\n",
    "train_df['label'] = train_df['soil_type'].map(soil2idx)\n",
    "\n",
    "# Split train/val\n",
    "train_data, val_data = train_test_split(train_df, test_size=0.2, stratify=train_df['label'], random_state=42)\n"
   ]
  },
  {
   "cell_type": "code",
   "execution_count": null,
   "id": "42424cb9",
   "metadata": {
    "vscode": {
     "languageId": "plaintext"
    }
   },
   "outputs": [],
   "source": [
    "IMG_SIZE = 224\n",
    "BATCH_SIZE = 32\n",
    "\n",
    "train_transform = transforms.Compose([\n",
    "    transforms.Resize((IMG_SIZE, IMG_SIZE)),\n",
    "    transforms.RandomHorizontalFlip(),\n",
    "    transforms.ToTensor(),\n",
    "    transforms.Normalize([0.485, 0.456, 0.406], [0.229, 0.224, 0.225])\n",
    "])\n",
    "\n",
    "val_transform = transforms.Compose([\n",
    "    transforms.Resize((IMG_SIZE, IMG_SIZE)),\n",
    "    transforms.ToTensor(),\n",
    "    transforms.Normalize([0.485, 0.456, 0.406], [0.229, 0.224, 0.225])\n",
    "])\n",
    "\n",
    "class SoilDataset(Dataset):\n",
    "    def __init__(self, df, img_dir, transform=None, is_test=False):\n",
    "        self.df = df.reset_index(drop=True)\n",
    "        self.img_dir = img_dir\n",
    "        self.transform = transform\n",
    "        self.is_test = is_test\n",
    "\n",
    "    def __len__(self):\n",
    "        return len(self.df)\n",
    "\n",
    "    def __getitem__(self, idx):\n",
    "        img_id = self.df.loc[idx, 'image_id']\n",
    "        image = Image.open(os.path.join(self.img_dir, img_id)).convert('RGB')\n",
    "        if self.transform:\n",
    "            image = self.transform(image)\n",
    "        if self.is_test:\n",
    "            return image, img_id\n",
    "        label = self.df.loc[idx, 'label']\n",
    "        return image, label\n",
    "\n",
    "# Datasets & Dataloaders\n",
    "train_ds = SoilDataset(train_data, TRAIN_IMAGES, transform=train_transform)\n",
    "val_ds = SoilDataset(val_data, TRAIN_IMAGES, transform=val_transform)\n",
    "\n",
    "train_loader = DataLoader(train_ds, batch_size=BATCH_SIZE, shuffle=True)\n",
    "val_loader = DataLoader(val_ds, batch_size=BATCH_SIZE, shuffle=False)\n"
   ]
  },
  {
   "cell_type": "code",
   "execution_count": null,
   "id": "b8cb7254",
   "metadata": {
    "vscode": {
     "languageId": "plaintext"
    }
   },
   "outputs": [],
   "source": [
    "def train_model(model, train_loader, val_loader, criterion, optimizer, device, epochs=10):\n",
    "    best_model_wts = model.state_dict()\n",
    "    best_f1 = 0\n",
    "\n",
    "    for epoch in range(epochs):\n",
    "        print(f\"Epoch {epoch+1}/{epochs}\")\n",
    "        \n",
    "        model.train()\n",
    "        train_loss, train_preds, train_labels = 0, [], []\n",
    "        for images, labels in train_loader:\n",
    "            images, labels = images.to(device), labels.to(device)\n",
    "            optimizer.zero_grad()\n",
    "            outputs = model(images)\n",
    "            loss = criterion(outputs, labels)\n",
    "            loss.backward()\n",
    "            optimizer.step()\n",
    "            train_loss += loss.item()\n",
    "            train_preds.extend(torch.argmax(outputs, 1).cpu().numpy())\n",
    "            train_labels.extend(labels.cpu().numpy())\n",
    "\n",
    "        train_f1 = f1_score(train_labels, train_preds, average='macro')\n",
    "        print(f\"Train Loss: {train_loss/len(train_loader):.4f} | F1: {train_f1:.4f}\")\n",
    "\n",
    "        model.eval()\n",
    "        val_loss, val_preds, val_labels = 0, [], []\n",
    "        with torch.no_grad():\n",
    "            for images, labels in val_loader:\n",
    "                images, labels = images.to(device), labels.to(device)\n",
    "                outputs = model(images)\n",
    "                loss = criterion(outputs, labels)\n",
    "                val_loss += loss.item()\n",
    "                val_preds.extend(torch.argmax(outputs, 1).cpu().numpy())\n",
    "                val_labels.extend(labels.cpu().numpy())\n",
    "\n",
    "        val_f1 = f1_score(val_labels, val_preds, average='macro')\n",
    "        print(f\"Val Loss: {val_loss/len(val_loader):.4f} | F1: {val_f1:.4f}\")\n",
    "\n",
    "        if val_f1 > best_f1:\n",
    "            best_f1 = val_f1\n",
    "            best_model_wts = model.state_dict()\n",
    "            print(\"✅ New best model\")\n",
    "\n",
    "    model.load_state_dict(best_model_wts)\n",
    "    return model\n"
   ]
  },
  {
   "cell_type": "code",
   "execution_count": null,
   "id": "0e266b22",
   "metadata": {
    "vscode": {
     "languageId": "plaintext"
    }
   },
   "outputs": [],
   "source": [
    "device = torch.device(\"cuda\" if torch.cuda.is_available() else \"cpu\")\n",
    "num_classes = len(soil2idx)\n",
    "\n",
    "model = get_model(num_classes=num_classes, pretrained=True).to(device)\n",
    "criterion = nn.CrossEntropyLoss()\n",
    "optimizer = torch.optim.Adam(model.parameters(), lr=1e-4)\n",
    "\n",
    "trained_model = train_model(model, train_loader, val_loader, criterion, optimizer, device, epochs=10)\n"
   ]
  }
 ],
 "metadata": {
  "language_info": {
   "name": "python"
  }
 },
 "nbformat": 4,
 "nbformat_minor": 5
}
